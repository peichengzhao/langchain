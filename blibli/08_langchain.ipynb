{
 "cells": [
  {
   "cell_type": "code",
   "execution_count": 1,
   "id": "afc1dbc4",
   "metadata": {},
   "outputs": [
    {
     "name": "stderr",
     "output_type": "stream",
     "text": [
      "/home/zpc/anaconda3/envs/langchain/lib/python3.10/site-packages/tqdm/auto.py:21: TqdmWarning: IProgress not found. Please update jupyter and ipywidgets. See https://ipywidgets.readthedocs.io/en/stable/user_install.html\n",
      "  from .autonotebook import tqdm as notebook_tqdm\n"
     ]
    }
   ],
   "source": [
    "from langchain_openai import ChatOpenAI\n",
    "import os\n",
    "from openai import api_key, base_url\n",
    "from transformers import Qwen2_5_VLConfig\n",
    "\n",
    "from langchain_core.output_parsers.string import StrOutputParser\n",
    "from langchain.schema import output_parser\n",
    "# llm = ChatOpenAI(model=)\n",
    "# OPENAI_API_KEY = os.getenv(\"OPENAI_API_KEY\", \"sk-C3gsaWJaOsmjrNv1fIobc4zEEsEkD15T98j80Vc8mNuSE420\")\n",
    "# llm = ChatOpenAI(model=\"o3-mini\", api_key=OPENAI_API_KEY, base_url=\"https://api.deepbricks.ai/v1/\")\n",
    "QWEN_API_KEY = os.getenv(\"QWEN_API_KEY\", \"sk-ypjnechwutigvbyglbkguukzsmzkkxfibauydwkbjrypwojd\")\n",
    "model = ChatOpenAI(model=\"Qwen/Qwen3-30B-A3B-Instruct-2507\", api_key=QWEN_API_KEY, base_url=\"https://api.siliconflow.cn/v1\")\n"
   ]
  },
  {
   "cell_type": "code",
   "execution_count": 2,
   "id": "b9ef879b",
   "metadata": {},
   "outputs": [
    {
     "data": {
      "text/plain": [
       "ChatPromptTemplate(input_variables=['topic'], input_types={}, partial_variables={}, messages=[HumanMessagePromptTemplate(prompt=PromptTemplate(input_variables=['topic'], input_types={}, partial_variables={}, template='\\n主题：{topic}，\\n要根据以上主题写出一篇文章，请先列出文章的大纲\\n'), additional_kwargs={})])"
      ]
     },
     "execution_count": 2,
     "metadata": {},
     "output_type": "execute_result"
    }
   ],
   "source": [
    "from langchain_core.prompts import ChatPromptTemplate\n",
    "from langchain_core.runnables import RunnableParallel\n",
    "\n",
    "outline_prompt_template = \"\"\"\n",
    "主题：{topic}，\n",
    "要根据以上主题写出一篇文章，请先列出文章的大纲\n",
    "\"\"\"\n",
    "outline_prompt = ChatPromptTemplate.from_template(outline_prompt_template)\n",
    "outline_prompt"
   ]
  },
  {
   "cell_type": "code",
   "execution_count": 3,
   "id": "7b093fa5",
   "metadata": {},
   "outputs": [],
   "source": [
    "tips_prompt_template = \"\"\"\n",
    "主题：{topic}\n",
    "如果要根据上面的主题写好一篇文章， 应该注意哪些方面，才能把这篇文章写好\n",
    "\"\"\"\n",
    "tip_promtp = ChatPromptTemplate.from_template(tips_prompt_template)\n"
   ]
  },
  {
   "cell_type": "code",
   "execution_count": 4,
   "id": "e288056f",
   "metadata": {},
   "outputs": [],
   "source": [
    "query = \"2024年中国经济走向\"\n",
    "from langchain_core.output_parsers import StrOutputParser\n",
    "ouout_parser = StrOutputParser()\n",
    "\n",
    "\n"
   ]
  },
  {
   "cell_type": "code",
   "execution_count": 11,
   "id": "a61193dd",
   "metadata": {},
   "outputs": [],
   "source": [
    "outlinechain = outline_prompt | model | ouout_parser\n",
    "\n",
    "outline = outlinechain.invoke({\"topic\": query})"
   ]
  },
  {
   "cell_type": "code",
   "execution_count": 12,
   "id": "eab96ea2",
   "metadata": {},
   "outputs": [],
   "source": [
    "tipchain = tip_promtp | model | ouout_parser\n",
    "tips = tipchain.invoke({\"topic\": query})"
   ]
  },
  {
   "cell_type": "code",
   "execution_count": 10,
   "id": "298e9666",
   "metadata": {},
   "outputs": [
    {
     "data": {
      "text/plain": [
       "ChatPromptTemplate(input_variables=['outline', 'tips', 'topic'], input_types={}, partial_variables={}, messages=[HumanMessagePromptTemplate(prompt=PromptTemplate(input_variables=['outline', 'tips', 'topic'], input_types={}, partial_variables={}, template='\\n主题:{topic},\\n大纲:{outline},\\n注意事项:{tips},\\n请根据上面的主题、大纲和注意事项，生成丰富的文章内容\\n'), additional_kwargs={})])"
      ]
     },
     "execution_count": 10,
     "metadata": {},
     "output_type": "execute_result"
    }
   ],
   "source": [
    "article_prompt_template = \"\"\"\n",
    "主题:{topic},\n",
    "大纲:{outline},\n",
    "注意事项:{tips},\n",
    "请根据上面的主题、大纲和注意事项，生成丰富的文章内容\n",
    "\"\"\"\n",
    "\n",
    "article_prompt = ChatPromptTemplate.from_template(article_prompt_template)\n",
    "\n",
    "article_prompt"
   ]
  },
  {
   "cell_type": "code",
   "execution_count": 13,
   "id": "b486fc61",
   "metadata": {},
   "outputs": [
    {
     "data": {
      "text/plain": [
       "'# **破局与重塑：2024年中国经济的挑战、机遇与未来路径**\\n\\n---\\n\\n## **一、引言：全球经济变局下的中国坐标**\\n\\n2024年，世界正站在一个高度不确定的历史十字路口。地缘政治冲突持续发酵，美西方对华科技封锁不断加码；全球通胀压力虽有所缓解，但能源和粮食安全隐患尚未根除；供应链重构加速推进，产业“去中国化”与“友岸外包”趋势悄然蔓延。在这一背景下，全球经济增长动能分化加剧——欧美经济“高通胀低增长”，新兴市场承压前行，而中国作为世界第二大经济体，其经济走势不仅牵动亚太区域稳定，更深刻影响全球经济再平衡的进程。\\n\\n2023年，中国经济实现约5%的GDP增速，虽略低于年初目标区间，但显现出在多重外部冲击下的韧性和政策体系的应对能力。进入2024年，宏观政策明确“**稳中求进、以进促稳**”，并首次将“**新质生产力**”写入政府工作报告，标志着中国经济从“量”的扩张转向“质”的跃升。这不仅是战略调适，更是系统性重构的起点。\\n\\n面对内外部交织的挑战与深层次结构转型的压力，2024年的中国，究竟将如何破局？其发展潜力是否依然可期？本文将以系统性视角，全面剖析2024年中国经济发展面临的六大驱动力、四大结构性风险、五大政策工具与改革方向，揭示一条“在不确定中把握确定性”的高质量发展新路径。\\n\\n---\\n\\n## **二、2024年中国经济的总体态势：稳中求进，质效并重**\\n\\n根据国家统计局与财政部发布的初步预测，2024年中国GDP增速目标设定为**5%左右**，这一目标充分考虑了人口结构变化、外部环境波动以及政策空间的现实约束，既体现进取性，也保持理性。\\n\\n从先行指标看，2024年第一季度，中国GDP同比增长**5.3%**（国家统计局数据），高于市场预期，工业增加值、服务业生产指数和出口交货值均实现正增长，显示经济复苏态势初步巩固。CPI（居民消费价格指数）控制在1.8%左右，PPI（工业生产者出厂价格指数）虽仍处负值区间，但降幅收窄至-0.5%，表明企业利润压力有所缓解。\\n\\n更值得关注的是政策基调的深化：中央经济工作会议明确提出，“坚持高质量发展是新时代的硬道理”，推动经济转型升级进入“深水区”。这意味着，**“稳增长”不再依赖传统刺激手段**，而是通过提升全要素生产率、培育新动能，实现“内生性可持续增长”。\\n\\n这一战略延续了自2012年提出“经济发展进入新常态”以来的逻辑主线——从“高速增长”转向“高质量发展”。2024年，这一主线被赋予更强时代意义：不再仅为应对周期波动，更是一场面向未来的系统性变革。\\n\\n---\\n\\n## **三、关键驱动力分析：六大引擎撬动经济新版图**\\n\\n### 1. **内需扩大：消费复苏与信心重建——“稳住基本盘”**\\n\\n2024年，内需作为中国经济“压舱石”的作用愈发凸显。\\n\\n一季度社会消费品零售总额同比增长**6.3%**，其中**新能源汽车销量同比增长35%**，手机、智能穿戴设备、家用电器等消费品销售同步回暖。文旅市场尤为亮眼，清明、五一假期国内旅游人次恢复至2019年同期的95%以上，多地文博游、乡村游热度飙升。\\n\\n但深层次矛盾也未根本化解。国家统计局调查显示，居民消费意愿指数连续两个季度低于荣枯线。青年群体失业率（16-24岁）虽从2023年最高的21.3%回落至18.5%（2024年一季度），但仍高于正常水平。收入预期不稳、房价高企、教育医疗负担沉重，是制约消费潜力释放的核心因素。\\n\\n为此，2024年多地推出“消费提振计划”：\\n- 上海发放总额达20亿元的**消费券包**，覆盖汽车、餐饮、文旅等领域；\\n- 成都推出“夜经济2.0”行动，支持夜间集市与品牌首店落地；\\n- 多地试点“以旧换新”补贴，预计带动家电、汽车更新消费超千亿元。\\n\\n更深层次的改革仍在推进：IMF报告指出，“中国居民储蓄率长期高于全球平均水平，根源在于社会保障覆盖率不足”。未来需加快构建覆盖全民的养老、医疗、托育体系，才能从根本上释放消费潜力。\\n\\n---\\n\\n### 2. **投资转型：科技投入与新型基建——“换道超车”的战略布局**\\n\\n固定资产投资结构出现深刻调整。2024年一季度，全国固定资产投资同比增长**4.5%**，其中**制造业投资增长9.8%**，**高技术产业投资增长14.2%**，远高于整体水平。\\n\\n这背后是中国对“未来产业”的投入加码：\\n- **人工智能**：北京、上海、深圳等地规划建设AI产业园，百度“文心一言”、阿里通义千问、华为盘古大模型持续迭代；\\n- **高端制造**：北方重工新一代高铁轴承项目投产，国产大飞机C919订单突破1000架；\\n- **新能源产业链**：宁德时代发布“麒麟电池3.0”，能量密度提升至250Wh/kg，电池循环寿命突破2000次；\\n- **半导体**：中芯国际N+1工艺（约7纳米）实现规模化量产，中微公司刻蚀设备进入台积电供应链。\\n\\n与此同时，“新基建”持续发力。2024年，中央预算内投资安排2.5万亿元，重点支持：\\n- **5G-A/6G前瞻布局**：全国已建成5G基站超过320万个，占全球60%以上；\\n- **算力网络建设**：京津冀、长三角、粤港澳大湾区形成国家级“东数西算”枢纽；\\n- **智能交通**：北京自动驾驶出租车已投入试运营，深圳开展车路云一体化试点。\\n\\n值得关注的是**房地产投资的触底企稳**。尽管商品房销售面积同比下降10%左右，但“**白名单项目融资**”政策推动1.8万亿元贷款获批，71个重点城市中约70%的项目复工率提升至80%以上。多地政府加速建设保障性住房，如杭州推出“共有产权房+人才安居”组合政策，缓解刚性需求压力。\\n\\n---\\n\\n### 3. **对外贸易：韧性与结构调整——“新三样”撑起出口基本盘**\\n\\n尽管欧美需求疲软、进口限制加码，中国外贸仍展现出强大韧性。2024年一季度，货物贸易顺差达**1.25万亿元人民币**，同比扩大22%。特别值得称道的是“新三样”——**电动汽车、锂电池、光伏产品**，出口额同比增长**38.7%**，占出口总额比重首次突破**10%**。\\n\\n- **电动汽车**：比亚迪单月出口突破3万辆，特斯拉上海工厂已向欧洲、东南亚、中东批量发货；\\n- **锂电池**：宁德时代、亿纬锂能等企业海外建厂提速，德国、匈牙利等地项目落地；\\n- **光伏组件**：中国企业占据全球产能超80%，阳光电源、隆基绿能积极布局非洲、拉美市场。\\n\\n与此同时，“一带一路”倡议贡献增量显著。2024年一季度，中国对“一带一路”沿线国家进出口增长**14.5%**，占外贸总值比重达35%。中老铁路、雅万高铁、中巴经济走廊等项目稳步推进，带动中国设计、建造、技术输出“走出去”。\\n\\n不过，风险不容忽视：美国拟对中国电动车加征30%关税、欧盟对中国光伏产品启动反补贴调查，全球贸易摩擦呈现“技术性壁垒”与“规则围堵”双轨并行趋势。\\n\\n---\\n\\n### 4. **科技创新：发展新质生产力——从概念到现实的跃迁**\\n\\n“新质生产力”已成为2024年中国经济最响亮的政策关键词。它并非简单替代“新经济”，而是以科技创新为核心、以全要素生产率提升为基础，推动产业体系重构的新范式。\\n\\n具体体现为：\\n- **前沿领域突破**：中国在量子通信、可控核聚变、基因编辑、类脑智能等方面实现里程碑进展。2024年“天问一号”火星探测器传回的数据支持首个人类月球基地选址研究；\\n- **研发强度跃升**：全社会研发经费投入预计达3.5万亿元，占GDP比重达2.64%，接近OECD国家平均水平；\\n- **企业主体地位凸显**：华为、大疆、科大讯飞等企业在人工智能、高端制造等领域专利数居全球前列；\\n- **产学研融合深化**：粤港澳大湾区、长三角科创走廊建立“揭榜挂帅”机制，2024年发布重大科研项目榜单120项，吸引社会资本超200亿元参与。\\n\\n商业转化也在提速。2024年国家科技成果转化率首次突破40%（2020年为23%），北京中关村、深圳南山区等创新区孵化出超千家“专精特新”企业，其中216家已实现科创板上市。\\n\\n---\\n\\n## **四、结构性挑战与风险预警：在危机中识别“灰犀牛”**\\n\\n尽管前景可期，但中国经济仍面临四个深层结构性挑战，需高度警惕。\\n\\n### 1. **房地产行业长期调整压力：从“支柱”到“托底”**\\n\\n尽管“白名单”政策缓解了部分房企流动性危机，但行业整体仍在调整期。2024年一季度，全国商品房销售面积同比下降11.2%，房企资金来源中来自销售回款的比例仅为37%，融资渠道仍受限。\\n\\n更严峻的是**地方财政“土地依赖”困局**。2023年地方政府卖地收入同比下滑29.2%，部分中西部城市降幅超40%。武汉、合肥等依赖土地财政的城市已启动“土地收储+城投转型”改革试点。\\n\\n保障性住房建设正加速替代“卖地财政”。截至2024年4月，全国已开工保障性住房项目超300万套，预计“十四五”末实现城镇户籍与非户籍家庭住房保障覆盖率均达30%以上。\\n\\n### 2. **地方财政与债务问题：底线思维下的系统性风险**\\n\\n截至2024年3月，全国地方政府债务余额已突破**38万亿元**，赤字率控制在3.8%（略高于国际警戒线3%），但隐性债务化解仍需时间。\\n\\nIMF警告：“若不加快财政体制改革，部分地区可能面临偿债压力与项目停摆风险。”\\n- 特别国债：2024年发行1万亿元特别国债，专项用于“两新一重”（新型基础设施、新型城镇化、重大工程）和债务化解；\\n- 城投平台整合：浙江、江苏等地推动城投公司“债务重组+市场化转型”，剥离部分公益性项目，提升融资能力。\\n\\n### 3. **人口老龄化与劳动力供给下降：经济增长的长期瓶颈**\\n\\n2024年中国总人口首次出现**负增长**，减少206万人，出生率降至**6.77‰**，中位年龄达38.8岁，进入深度老龄化社会。\\n\\n劳动力总量逐年下滑，预测2035年将比2023年减少近7000万人。东北三省平均年龄超43岁，局部地区出现“空心化”现象。\\n\\n应对策略正在推进：\\n- 延迟退休渐进式实施，2024年起北京、上海试点弹性退休制度；\\n- 人力资本提升：高职扩招、职业技能培训补贴提高至人均8000元；\\n- 银发经济崛起：2024年康养产业规模超5.6万亿元，涵盖智慧养老、康复医疗、适老化改造等领域。\\n\\n### 4. **外部环境不确定性：技术封锁与产业链“脱钩”风险**\\n\\n美国对华芯片出口管制扩大至14纳米以下成熟制程，2024年通过《芯片与科学法案》追加527亿美元补贴，强化盟友“半导体联盟”。\\n\\n欧盟则成立“技术主权委员会”，加速本土芯片、电池、绿色能源产业链布局。多家欧洲车企宣布“去中国化”采购策略。\\n\\n对此，中国加快“自主可控”步伐：\\n- 国产EDA软件突破，华大九天EDA工具获中芯国际认证；\\n- 台积电、三星已宣布在华投资重大扩产项目，但核心工艺仍受限；\\n- “卡脖子”技术清单管理机制升级，对重点领域实施“限时攻关”制度。\\n\\n---\\n\\n## **五、政策展望与改革方向：系统性重构的制度保障**\\n\\n2024年，中国正通过一揽子政策组合拳，推动经济系统性转型。\\n\\n| 政策类别 | 核心举措 | 重点目标 |\\n|----------|----------|----------|\\n| **财政政策** | 特别国债1万亿元，设备更新补贴、家电“以旧换新”补贴500亿元 | 适度加力、精准滴灌 |\\n| **货币政策** | 降准0.25个百分点，五年期LPR下调10基点，引导实体经济融资成本下行 | 灵活适度，支持科技创新与中小微企业 |\\n| **产业政策** | “新质生产力”重点企业名单发布，设立2000亿元基础研究专项基金 | 突破“卡脖子”核心技术 |\\n| **改革开放** | 加快全国统一大市场建设，国企改革“双百行动”深化，民营经济60条落地 | 优化营商环境，激发微观活力 |\\n| **绿色转型** | 碳市场扩容至建材、有色等行业，绿色债券发行超3.8万亿元 | 践行双碳承诺 |\\n\\n值得注意的是，“全国统一大市场”建设按下快进键：2024年已取消32项地方保护性政策，建立跨区域数据共享平台，打破“市场分割”坚冰。\\n\\n---\\n\\n## **六、结语：在不确定中把握确定性**\\n\\n2024年，中国经济的前景并非“一帆风顺”，也不会“全面衰退”，而是呈现一条**曲折上升、结构重塑**的“L型”复苏路径。\\n\\n我们看到：\\n- 传统动力的边际贡献在减弱，但新动能正在接棒；\\n- 外部压力空前，但本土创新与产业链韧性持续增强；\\n- 财政空间受限，但制度优势与政策执行力仍具强大弹药。\\n\\n正如国务院发展研究中心原主任刘鹤所言：“中国经济有足够底气应对短期波动，核心在于能否加速推动发展方式变革，构建依靠创新驱动的内生增长机制。”\\n\\n2024年，中国的目标不仅是实现5%的增长，更是在多重挑战中打通**高质量发展的“任督二脉”**——通过科技创新开辟新赛道，通过制度革新释放新动能，通过民生改善筑牢内需根基。\\n\\n这是一场深刻的“破局与重塑”：  \\n**破的是路径依赖，立的是发展理念；**  \\n**破的是旧增长模式，立的是新发展范式。**\\n\\n当世界仍在为“低增长、高通胀、高风险”焦虑时，中国正以稳健的步伐，走出一条**更加自主、更高质量、更具韧性**的可持续发展之路。\\n\\n未来的中国，不是“保增长”的中国，而是“强内生”的中国——  \\n它在风浪中调舵前行，却始终朝着星辰大海的方向。\\n\\n> **结语金句**：  \\n> “2024年的中国经济，虽面临‘内需修复慢、外部考验多’的挑战，但凭借政策工具箱的丰富储备、新质生产力的崛起与制度韧性的支撑，有望在波动中走出一条稳中提质的高质量发展之路。”\\n\\n---  \\n**（完）**\\n\\n---\\n\\n### ✅ **数据与案例来源说明**（可用于正式发表）：\\n- 国家统计局《2024年一季度国民经济运行情况》\\n- IMF《World Economic Outlook April 2024》\\n- 世界银行《China Economic Update Q1 2024》\\n- 国家发改委《2024年重大投资项目清单》\\n- 财政部《关于发行2024年特别国债的通知》\\n- 上海市商务委《2024年消费提振行动方案》\\n- 比亚迪、宁德时代、华为等企业公开财报与技术公告\\n\\n---  \\n如需将本文转化为**经济评论稿件、政策分析报告、公众号推文或视频脚本**，欢迎进一步提出需求，我可按不同场景进行风格适配与内容优化。'"
      ]
     },
     "execution_count": 13,
     "metadata": {},
     "output_type": "execute_result"
    }
   ],
   "source": [
    "article_chain = article_prompt | model | ouout_parser\n",
    "article_chain.invoke({\n",
    "    \"topic\": query,\n",
    "    \"outline\": outline,\n",
    "    \"tips\": tips\n",
    "})\n"
   ]
  },
  {
   "cell_type": "code",
   "execution_count": 14,
   "id": "5cf091f3",
   "metadata": {},
   "outputs": [
    {
     "data": {
      "text/plain": [
       "{'outline': '当然可以。以下是围绕“2024年中国经济走向”这一主题撰写的文章大纲，旨在全面、系统地分析中国经济在2024年的主要趋势、挑战与机遇：\\n\\n---\\n\\n**文章标题：**  \\n《破局与重塑：2024年中国经济发展走向展望》\\n\\n---\\n\\n**一、引言：回望2023，展望2024**  \\n1. 简述2023年中国宏观经济的基本表现（GDP增速、通胀、就业、外贸等关键指标）  \\n2. 总结2023年经济面临的内外部压力（如房地产下行、消费复苏乏力、地缘政治影响）  \\n3. 引出2024年中国经济的关键议题：复苏动能、结构性改革、长期增长潜力  \\n\\n---\\n\\n**二、2024年宏观经济总体趋势预测**  \\n1. GDP增速目标与预期（可能区间：5%左右）  \\n2. 政策基调：稳增长、扩内需、防风险  \\n3. 宏观政策组合：财政政策与货币政策的协同发力  \\n   - 大规模国债发行与专项债推动基建投资  \\n   - 降准降息可能性及对实体经济的影响  \\n4. 经济复苏的“三驾马车”分析  \\n   - 消费：政策刺激下的复苏路径与结构性潜力  \\n   - 投资：基建与制造业投资的支撑作用  \\n   - 出口：外部需求波动与新兴市场替代效应  \\n\\n---\\n\\n**三、结构性转型的关键领域**  \\n1. **新质生产力的发展**  \\n   - 高端制造与科技创新（半导体、AI、新能源、生物医药）  \\n   - 国家战略科技力量的强化与企业研发投入提升  \\n2. **绿色低碳转型深化**  \\n   - “双碳”目标下的能源结构优化  \\n   - 绿色金融与碳市场的制度完善  \\n   - 新能源产业链（光伏、风电、储能）的全球竞争力  \\n3. **数字经济与AI赋能实体经济**  \\n   - 数字基础设施建设（算力网络、5G/6G）  \\n   - 人工智能在工业、服务业的应用落地  \\n   - 数据要素市场培育与数字治理创新  \\n\\n---\\n\\n**四、面临的挑战与风险**  \\n1. 房地产市场的深层调整与地方财政压力  \\n2. 青年就业与居民收入增长乏力的结构性矛盾  \\n3. 外部环境不确定性（地缘政治、贸易保护主义、全球需求放缓）  \\n4. 人口老龄化与少子化对长期增长的潜在冲击  \\n5. 金融风险的潜在传导（地方债务、中小金融机构等）  \\n\\n---\\n\\n**五、政策应对与改革突破点**  \\n1. 财政与货币政策“精准发力”  \\n2. 深化国企改革与民营经济支持（“两个毫不动摇”）  \\n3. 扩大高水平对外开放：RCEP红利释放、吸引外资新举措  \\n4. 推动制度型开放：营商环境优化、公平竞争审查机制  \\n5. 区域协调发展战略：粤港澳大湾区、长三角一体化、中部崛起等  \\n6. 战略性新兴产业的培育与产业链供应链安全  \\n\\n---\\n\\n**六、未来展望：向高质量发展迈进**  \\n1. 2024年作为“十五五”规划筹备之年的重要性  \\n2. 从“量的扩张”到“质的提升”转变的路径  \\n3. 中国经济在全球格局中的新定位  \\n4. 给企业、投资者与普通民众的启示：机遇与准备  \\n\\n---\\n\\n**七、结语**  \\n- 2024年是承前启后、攻坚克难的一年  \\n- 尽管面临挑战，但中国具备制度优势、市场规模与技术积累等“压舱石”  \\n- 中国经济的韧性与潜力，将在改革与创新中持续释放  \\n\\n---\\n\\n该大纲结构清晰，兼顾宏观分析与微观视角，涵盖政策、产业、风险与未来愿景，适合撰写一篇深度分析文章。是否需要我根据此大纲继续撰写完整文章？',\n",
       " 'tips': '要写好一篇关于“2024年中国经济走向”的文章，需在内容深度、逻辑结构、数据支持、前瞻分析与读者视角之间找到平衡。以下是撰写此类文章时应重点关注的几个核心方面，以确保文章质量高、观点深刻、具有参考价值：\\n\\n---\\n\\n### 一、明确主题与核心立意\\n- **聚焦“2024年”**：突出时间维度，分析当前（2023年底至2024年初）经济态势，展望全年趋势。\\n- **避免泛泛而谈**：不要仅停留在“中国经济复苏”这类表面判断，而应深入探讨**结构性变化**（如产业结构、区域差异）、**动能转换**（从投资拉动到消费科技驱动）、**政策影响**等深层议题。\\n- **立意要清晰**：例如，“2024年中国经济的‘稳中求进’与结构性突破”、“新质生产力能否成为增长新引擎？”、“内外挑战交织下的不确定性与韧性”。\\n\\n---\\n\\n### 二、全面把握经济宏观背景与数据支撑\\n1. **GDP增长目标与现实差距**\\n   - 分析2024年政府设定的经济增长目标（如5%左右），结合2023年实际增速（5.2%）讨论实现可能性。\\n   - 引用权威数据（国家统计局、世界银行、IMF、中国央行等）增强可信度。\\n\\n2. **关键指标分析**\\n   - **消费**：社零数据、居民收入、消费意愿（CPI、PPI）、服务消费复苏情况（如文旅、餐饮）。\\n   - **投资**：固定资产投资、制造业投资、基建与房地产（“保交楼”进展、房地产销售恢复）。\\n   - **出口**：全球需求变化、中美关系、新兴市场机会、人民币汇率影响。\\n   - **就业与收入**：城镇调查失业率、青年失业率、居民可支配收入增速。\\n   - **通货膨胀**：CPI与PPI走势，是否面临“通缩风险”或“通胀压力”。\\n\\n---\\n\\n### 三、深入分析关键驱动因素与结构性变化\\n1. **新质生产力**（2024年政策关键词）\\n   - 以人工智能、集成电路、量子科技、生物制造等为代表的技术创新对产业转型升级的影响。\\n   - 政策扶持（如财政、税收、金融）如何落地，对经济形态的重塑。\\n\\n2. **房地产市场的“软着陆”路径**\\n   - 分析“以旧换新”、城中村改造、保障性住房建设等政策对地产链的稳定作用。\\n   - 房企债务风险、购房者信心修复的进展。\\n\\n3. **财政与货币政策的协同与空间**\\n   - 财政政策：赤字率、特别国债、地方债化解方案。\\n   - 货币政策：LPR下调空间、降准降息节奏、结构性工具使用（如支农支小再贷款）。\\n\\n4. **区域协调与城乡融合**\\n   - 中西部崛起、长三角/粤港澳大湾区引领、乡村振兴战略对内需的拉动。\\n\\n---\\n\\n### 四、正视挑战与外部不确定性\\n- **外部环境**：中美关系紧张、地缘政治风险、全球供应链再配置、海外需求疲软（尤其欧美）。\\n- **内部风险**：地方政府债务、中小企业生存压力、青年就业难、“内卷”与“躺平”现象。\\n- **潜在通缩风险**：PPI持续负增长，价格传导机制阻滞，需警惕长期低迷预期。\\n\\n---\\n\\n### 五、具备前瞻性与建设性视角\\n- **预测与情景分析**：\\n   - 基准情景（稳增长发力）：GDP增长5%~5.5%，消费和制造业投资回暖。\\n   - 风险情景（外部冲击）：海外经济衰退导致出口下滑，增速低于4.5%。\\n   - 乐观情景（结构性突破）：新质生产力爆发，科技自立自强带来新增长极。\\n- **提出建议或思考**：\\n   - 政策建议：如何提升民营经济信心？如何完善科技创新生态？\\n   - 企业层面：如何适应“新质生产力”转型？\\n   - 个人层面：如何在转型中把握就业与投资机会？\\n\\n---\\n\\n### 六、语言与逻辑表达技巧\\n- **结构清晰**：建议采用“现状—动因—趋势—挑战—前景”逻辑框架，或“问题—分析—对策”结构。\\n- **避免堆砌数据**：数据要服务于论点，合理解读，而非罗列。\\n- **增强可读性**：使用比喻、案例、图表（若为图文发布）增强理解，如“中国新能源汽车全球出海=技术+成本+产业链优势的胜利”。\\n- **立意高远有格局**：结合中国式现代化、共同富裕、可持续发展等大主题，提升文章思想深度。\\n\\n---\\n\\n### 七、避免常见误区\\n- ❌ 一味唱衰或盲目乐观（需保持理性预判）。\\n- ❌ 忽视地方差异（如东部与中西部、一二线与三四线）。\\n- ❌ 忽略非经济因素（如人口结构、气候变化、技术伦理）影响。\\n- ❌ 脱离政策语境，空谈理论。\\n\\n---\\n\\n### 总结：写好这篇文章的关键要素\\n| 要素 | 具体要求 |\\n|------|----------|\\n| **主题聚焦** | 紧扣“2024年”与“经济走向”，突出年内趋势与关键判断 |\\n| **数据支撑** | 引用权威、最新的内外部经济数据，增强说服力 |\\n| **结构清晰** | 有逻辑、分层次，避免内容杂乱 |\\n| **深度分析** | 挖掘背后结构性变化与政策影响，非表面描述 |\\n| **前瞻视野** | 有预测、有情景、有建议，体现思考深度 |\\n| **语言表达** | 准确、生动、深入浅出，兼顾专业与传播性 |\\n\\n---\\n\\n✅ **示例标题参考**：\\n- 《破局与突围：2024年中国经济发展三大关键词》\\n- 《从“稳增长”到“重质量”：2024中国经济的新节奏》\\n- 《新质生产力能否点燃2024年增长引擎？》\\n- 《在不确定中寻求确定：2024中国宏观经济路径推演》\\n\\n---\\n\\n通过以上维度的系统把握，不仅能写出一篇逻辑严谨、内容翔实的文章，还能在政策研究、财经评论、媒体发布或学术讨论中具备真正的参考价值和影响力。',\n",
       " 'topic': '2024年中国经济走向'}"
      ]
     },
     "execution_count": 14,
     "metadata": {},
     "output_type": "execute_result"
    }
   ],
   "source": [
    "from langchain_core.runnables import RunnableParallel\n",
    "from langchain_core.runnables import RunnablePassthrough\n",
    "from operator import itemgetter\n",
    "map_chain = RunnableParallel(outline=outlinechain, tips=tipchain, topic=itemgetter(\"topic\"))\n",
    "map_chain.invoke({\"topic\": query})"
   ]
  },
  {
   "cell_type": "code",
   "execution_count": 17,
   "id": "8ec5d6f8",
   "metadata": {},
   "outputs": [
    {
     "data": {
      "text/plain": [
       "{'passed': {'num': 1}, 'extra': {'num': 1, 'mult': 3}, 'modified': 2}"
      ]
     },
     "execution_count": 17,
     "metadata": {},
     "output_type": "execute_result"
    }
   ],
   "source": [
    "from langchain_core.runnables import RunnableParallel, RunnablePassthrough\n",
    "\n",
    "runnable = RunnableParallel(\n",
    "    passed=RunnablePassthrough(),\n",
    "    extra=RunnablePassthrough.assign(mult=lambda x: x[\"num\"] * 3),\n",
    "    modified=lambda x: x[\"num\"] + 1,\n",
    ")\n",
    "\n",
    "runnable.invoke({\"num\": 1})"
   ]
  },
  {
   "cell_type": "code",
   "execution_count": 20,
   "id": "cb6afce3",
   "metadata": {},
   "outputs": [
    {
     "data": {
      "text/plain": [
       "AIMessage(content='5 + 25 = 30', additional_kwargs={'refusal': None}, response_metadata={'token_usage': {'completion_tokens': 9, 'prompt_tokens': 16, 'total_tokens': 25, 'completion_tokens_details': None, 'prompt_tokens_details': None}, 'model_name': 'Qwen/Qwen3-30B-A3B-Instruct-2507', 'system_fingerprint': '', 'id': '0199470bf81f403e65da86863b3c96c2', 'service_tier': None, 'finish_reason': 'stop', 'logprobs': None}, id='run--0889f7b5-b92d-4a5b-ae84-1174bed7bd26-0', usage_metadata={'input_tokens': 16, 'output_tokens': 9, 'total_tokens': 25, 'input_token_details': {}, 'output_token_details': {}})"
      ]
     },
     "execution_count": 20,
     "metadata": {},
     "output_type": "execute_result"
    }
   ],
   "source": [
    "from operator import itemgetter\n",
    "\n",
    "from langchain_core.prompts import ChatPromptTemplate\n",
    "from langchain_core.runnables import RunnableLambda\n",
    "from langchain_openai import ChatOpenAI\n",
    "\n",
    "\n",
    "def length_function(text):\n",
    "    return len(text)\n",
    "\n",
    "\n",
    "def _multiple_length_function(text1, text2):\n",
    "    return len(text1) * len(text2)\n",
    "\n",
    "\n",
    "def multiple_length_function(_dict):\n",
    "    return _multiple_length_function(_dict[\"text1\"], _dict[\"text2\"])\n",
    "\n",
    "\n",
    "prompt = ChatPromptTemplate.from_template(\"what is {a} + {b}\")\n",
    "\n",
    "\n",
    "chain1 = prompt | model\n",
    "\n",
    "chain = (\n",
    "    {\n",
    "        \"a\": itemgetter(\"foo\") | RunnableLambda(length_function),\n",
    "        \"b\": {\"text1\": itemgetter(\"foo\"), \"text2\": itemgetter(\"bar\")} | RunnableLambda(multiple_length_function),\n",
    "    }\n",
    "    | prompt\n",
    "    | model\n",
    ")\n",
    "chain.invoke({\"foo\": \"hello\", \"bar\": \"world\"})"
   ]
  },
  {
   "cell_type": "code",
   "execution_count": null,
   "id": "d47b760a",
   "metadata": {},
   "outputs": [],
   "source": []
  },
  {
   "cell_type": "code",
   "execution_count": null,
   "id": "28f5f429",
   "metadata": {},
   "outputs": [],
   "source": []
  },
  {
   "cell_type": "code",
   "execution_count": null,
   "id": "04d1b331",
   "metadata": {},
   "outputs": [],
   "source": []
  },
  {
   "cell_type": "code",
   "execution_count": null,
   "id": "33569801",
   "metadata": {},
   "outputs": [],
   "source": []
  },
  {
   "cell_type": "code",
   "execution_count": null,
   "id": "4051e1b0",
   "metadata": {},
   "outputs": [],
   "source": []
  },
  {
   "cell_type": "code",
   "execution_count": null,
   "id": "504b6a5d",
   "metadata": {},
   "outputs": [],
   "source": []
  },
  {
   "cell_type": "code",
   "execution_count": null,
   "id": "009b8b73",
   "metadata": {},
   "outputs": [],
   "source": []
  }
 ],
 "metadata": {
  "kernelspec": {
   "display_name": "langchain",
   "language": "python",
   "name": "python3"
  },
  "language_info": {
   "codemirror_mode": {
    "name": "ipython",
    "version": 3
   },
   "file_extension": ".py",
   "mimetype": "text/x-python",
   "name": "python",
   "nbconvert_exporter": "python",
   "pygments_lexer": "ipython3",
   "version": "3.10.0"
  }
 },
 "nbformat": 4,
 "nbformat_minor": 5
}
