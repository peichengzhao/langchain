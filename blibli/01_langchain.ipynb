{
 "cells": [
  {
   "cell_type": "code",
   "execution_count": null,
   "id": "3d5d26a0",
   "metadata": {},
   "outputs": [
    {
     "name": "stdout",
     "output_type": "stream",
     "text": [
      "client=<openai.resources.chat.completions.completions.Completions object at 0x7fe7aa45f0d0> async_client=<openai.resources.chat.completions.completions.AsyncCompletions object at 0x7fe7aa45ee30> root_client=<openai.OpenAI object at 0x7fe7aa45e140> root_async_client=<openai.AsyncOpenAI object at 0x7fe7aa45e770> model_name='Pro/deepseek-ai/DeepSeek-V3' model_kwargs={} openai_api_key=SecretStr('**********') openai_api_base='https://api.deepbricks.ai/v1/'\n"
     ]
    }
   ],
   "source": [
    "from langchain_openai import ChatOpenAI\n",
    "import os\n",
    "from openai import api_key, base_url\n",
    "from transformers import Qwen2_5_VLConfig\n",
    "# llm = ChatOpenAI(model=)\n",
    "OPENAI_API_KEY = os.getenv(\"OPENAI_API_KEY\", \"sk-C3gsaWJaOsmjrNv1fIobc4zEEsEkD15T98j80Vc8mNuSE420\")\n",
    "llm = ChatOpenAI(model=\"o3-mini\", api_key=OPENAI_API_KEY, base_url=\"https://api.deepbricks.ai/v1/\")\n",
    "QWEN_API_KEY = os.getenv(\"QWEN_API_KEY\", \"sk-ypjnechwutigvbyglbkguukzsmzkkxfibauydwkbjrypwojd\")\n",
    "model = ChatOpenAI(model=\"Pro/deepseek-ai/DeepSeek-V3\", api_key=QWEN_API_KEY, base_url=\"https://api.deepbricks.ai/v1/\")"
   ]
  },
  {
   "cell_type": "code",
   "execution_count": null,
   "id": "cc189b13",
   "metadata": {},
   "outputs": [],
   "source": []
  },
  {
   "cell_type": "code",
   "execution_count": null,
   "id": "3cb71bb4",
   "metadata": {},
   "outputs": [
    {
     "data": {
      "text/plain": [
       "ChatPromptValue(messages=[HumanMessage(content='请根据此主题写一篇小红书营销的短文:康师傅绿茶', additional_kwargs={}, response_metadata={})])"
      ]
     },
     "execution_count": 11,
     "metadata": {},
     "output_type": "execute_result"
    }
   ],
   "source": [
    "from langchain_core.output_parsers import StrOutputParser\n",
    "from langchain.prompts import ChatPromptTemplate\n",
    "from langchain_openai import ChatOpenAI\n",
    "\n",
    "\n",
    "prompt = ChatPromptTemplate.from_template(\"请根据此主题写一篇小红书营销的短文:{topic}\")\n",
    "output_parser = StrOutputParser()\n",
    "chain = prompt | llm | output_parser\n",
    "# chain.invoke({\"topic\": \"夏日防晒\"})\n",
    "value_prompt = prompt.invoke({\"topic\": \"康师傅绿茶\"})\n",
    "\n"
   ]
  },
  {
   "cell_type": "code",
   "execution_count": 17,
   "id": "98253db7",
   "metadata": {},
   "outputs": [
    {
     "name": "stdout",
     "output_type": "stream",
     "text": [
      "大家好，今天要跟大家安利一款在忙碌都市生活中拯救疲惫心情的小确幸——康师傅绿茶！作为一个茶控，在快节奏的工作间隙，一瓶清新的绿茶不仅能带来瞬间的提神醒脑，更是一种心灵上的放松仪式感。\n",
      "\n",
      "康师傅绿茶选用上乘茶叶，经过独特工艺处理，保留了茶叶的原香和清爽口感。喝上一口，淡淡的茶香在味蕾上绽放，再加上那丝丝甘甜，瞬间化解了一整天的压力。无论是办公室桌边的小憩，还是闺蜜约会时的小零嘴，它都是最佳的伴侣哦～\n",
      "\n",
      "最让我心动的是，它不仅口感清新，而且低糖低热量，让你在享受美味的同时也能保持健康生活。这种兼顾口感和健康的平衡，正是现如今我们追求品质生活的不二选择。再加上康师傅这个国民品牌的品质保证，每一瓶都像是对自己的一次小奖励。\n",
      "\n",
      "如果你也想在疲惫生活中寻回那缕清风，不妨试试康师傅绿茶，让清新与活力伴你每一天。快把这份清凉分享给身边的小伙伴们，一起体验那份来自自然的绿意吧！"
     ]
    }
   ],
   "source": [
    "for chunk in chain.stream({\"topic\": \"康师傅绿茶\"}):\n",
    "    print(chunk, end=\"\", flush=True)"
   ]
  },
  {
   "cell_type": "code",
   "execution_count": 22,
   "id": "f47190e3",
   "metadata": {},
   "outputs": [],
   "source": [
    "ZHIPUAI_API_AEY = os.getenv(\"ZHIPUAI_API_AEY\", \"8bada8b02f0a4ee1af700a7c643230b9.gDJN3N1GrgtFDbnn\")\n",
    "from zhipuai import ZhipuAI\n",
    "client = ZhipuAI(api_key=ZHIPUAI_API_AEY)\n"
   ]
  },
  {
   "cell_type": "code",
   "execution_count": 30,
   "id": "dca17f36",
   "metadata": {},
   "outputs": [
    {
     "name": "stdout",
     "output_type": "stream",
     "text": [
      "以色列参与战争和冲突的原因是多方面的，主要与其地理位置、历史和政治状况有关。以下是一些关键因素：\n",
      "\n",
      "1. **安全问题**：以色列自成立以来，就面临着周边阿拉伯国家的敌对。由于多次中东战争和冲突，以色列认为其国家安全受到威胁，因此经常采取军事行动以确保其国家安全。\n",
      "\n",
      "2. **领土争端**：以色列与巴勒斯坦以及一些邻国存在领土争端，尤其是加沙地带和西岸地区。这些地区的控制权是冲突的一个重要原因。\n",
      "\n",
      "3. **水资源争夺**：中东地区水资源匮乏，以色列与周边国家在水资源的分配和使用上存在争议。\n",
      "\n",
      "4. **宗教和民族问题**：以色列是一个犹太国家，但其领土上和周边地区居住着大量的穆斯林和基督徒。宗教和民族身份的差异加剧了该地区的紧张局势。\n",
      "\n",
      "5. **巴勒斯坦问题**：以色列与巴勒斯坦之间的冲突是中东问题的关键。巴勒斯坦要求建立一个独立的国家，而以色列对于领土、安全关切和耶路撒冷的地位等问题有自己的立场。\n",
      "\n",
      "6. **国际支持与干预**：以色列的军事行动受到其盟友，特别是美国的影响和支持。同时，国际社会对巴勒斯坦事业的同情有时也会影响冲突的走向。\n",
      "\n",
      "7. **恐怖主义威胁**：以色列面临来自诸如哈马斯、伊斯兰圣战组织等团体的恐怖主义威胁，这些组织经常从以色列控制的领土发射火箭弹或进行其他袭击。\n",
      "\n",
      "8. **国内政治**：以色列的国内政治动态，包括不同政党对于安全和和平进程的立场，也会影响其军事行动。\n",
      "\n",
      "需要注意的是，这些因素相互作用，情况复杂多变，每一次冲突的具体原因可能都有所不同。"
     ]
    }
   ],
   "source": [
    "prompt = \"以色列为什么打仗？\"\n",
    "response = client.chat.completions.create(\n",
    "    model=\"glm-4\",\n",
    "    messages=[\n",
    "        {\"role\": \"user\", \"content\": \"你好\"},\n",
    "        {\"role\": \"assistant\", \"content\": \"你是一个助手，请回答问题\"},\n",
    "        {\"role\": \"user\", \"content\": prompt}\n",
    "    ],\n",
    "    stream=True)\n",
    "\n",
    "for chunk in response:\n",
    "    print(chunk.choices[0].delta.content, end=\"\", flush=True)\n"
   ]
  },
  {
   "cell_type": "code",
   "execution_count": null,
   "id": "340a0fba",
   "metadata": {},
   "outputs": [],
   "source": [
    "from langchain.llms.base import LLM\n",
    "from zhipuai import ZhipuAI\n",
    "from langchain_core.messages.ai import AIMessage\n",
    "\n",
    "\n",
    "class ChatGLM4(LLM):\n",
    "    history: list = []\n",
    "    client: ZhipuAI = None\n",
    "\n",
    "    def __init__(self):\n",
    "        super().__init__()\n",
    "        self.client = ZhipuAI(api_key=ZHIPUAI_API_AEY)\n",
    "\n",
    "    @property\n",
    "    def _llm_type(self) -> str:\n",
    "        return \"ChatGLM4\"\n",
    "\n",
    "    def invoke(self, prompt, history=[]):\n",
    "        if history is None:\n",
    "            history= []\n",
    "        history.append({\"role\": \"user\", \"content\": prompt})\n",
    "        response = self.client.chat.completions.create(\n",
    "            model = \"glm-4\",\n",
    "            messages = history\n",
    "        )\n",
    "        result = response.choices[0].message.content\n",
    "        return AIMessage(content=result)\n",
    "    def _call(self, promtp, history=[]):\n",
    "        return self.invoke(prompt, history)\n",
    "    def stream(self, prompt, history=[]):\n",
    "        if history is None:\n",
    "            history= []\n",
    "        history.append({\"role\": \"user\", \"content\": prompt})\n",
    "        response = self.client.chat.completions.create(\n",
    "            model = \"glm-4\",\n",
    "            messages = history,\n",
    "            stream=True,\n",
    "        )\n",
    "        for chunk in response:\n",
    "            yield chunk.choices[0].delta.content\n"
   ]
  },
  {
   "cell_type": "code",
   "execution_count": 36,
   "id": "01af2805",
   "metadata": {},
   "outputs": [
    {
     "name": "stdout",
     "output_type": "stream",
     "text": [
      "好的，这是一个关于减肥的笑话：\n",
      "\n",
      "有一天，小明下定决心开始减肥，于是他去找健身房教练咨询。教练告诉他：“只要你按照我的方法锻炼，保证你一个月能减掉10斤。”\n",
      "\n",
      "一个月后，小明去找教练：“教练，我已经按照你的方法锻炼了一个月，为什么一斤都没减掉呢？”\n",
      "\n",
      "教练疑惑地问：“你真的按照我说的做了吗？”\n",
      "\n",
      "小明点点头：“是啊，我每天都去健身房，严格按照你的计划锻炼。”\n",
      "\n",
      "教练又问：“那你在饮食方面控制得怎么样？”\n",
      "\n",
      "小明有些尴尬地说：“这个……我每天都坚持吃一个鸡腿，因为我觉得运动后需要补充能量。”\n",
      "\n",
      "教练哭笑不得：“难怪你一斤没减掉，原来你把减掉的肉都补回去了！”"
     ]
    }
   ],
   "source": [
    "llm_new = ChatGLM4()\n",
    "for deltastr in llm_new.stream(\"讲一个关于减肥的笑话:\"):\n",
    "    print(deltastr, end=\"\")"
   ]
  },
  {
   "cell_type": "code",
   "execution_count": null,
   "id": "40bddb19",
   "metadata": {},
   "outputs": [],
   "source": []
  },
  {
   "cell_type": "code",
   "execution_count": null,
   "id": "786a6fc7",
   "metadata": {},
   "outputs": [],
   "source": []
  },
  {
   "cell_type": "code",
   "execution_count": null,
   "id": "592da8d2",
   "metadata": {},
   "outputs": [],
   "source": []
  },
  {
   "cell_type": "code",
   "execution_count": null,
   "id": "53cb31a4",
   "metadata": {},
   "outputs": [],
   "source": []
  },
  {
   "cell_type": "code",
   "execution_count": null,
   "id": "1fed7ec3",
   "metadata": {},
   "outputs": [],
   "source": []
  },
  {
   "cell_type": "code",
   "execution_count": null,
   "id": "df3de3b8",
   "metadata": {},
   "outputs": [],
   "source": []
  },
  {
   "cell_type": "code",
   "execution_count": null,
   "id": "673cfbba",
   "metadata": {},
   "outputs": [],
   "source": []
  },
  {
   "cell_type": "code",
   "execution_count": null,
   "id": "1ebd9977",
   "metadata": {},
   "outputs": [],
   "source": []
  }
 ],
 "metadata": {
  "kernelspec": {
   "display_name": "langchain",
   "language": "python",
   "name": "python3"
  },
  "language_info": {
   "codemirror_mode": {
    "name": "ipython",
    "version": 3
   },
   "file_extension": ".py",
   "mimetype": "text/x-python",
   "name": "python",
   "nbconvert_exporter": "python",
   "pygments_lexer": "ipython3",
   "version": "3.10.0"
  }
 },
 "nbformat": 4,
 "nbformat_minor": 5
}
