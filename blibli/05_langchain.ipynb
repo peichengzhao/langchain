{
 "cells": [
  {
   "cell_type": "code",
   "execution_count": 2,
   "id": "b6f444c6",
   "metadata": {},
   "outputs": [
    {
     "data": {
      "text/plain": [
       "ChatMessage(content='愿上帝与你同在', additional_kwargs={}, response_metadata={}, role='Jedi')"
      ]
     },
     "execution_count": 2,
     "metadata": {},
     "output_type": "execute_result"
    }
   ],
   "source": [
    "from langchain.prompts import ChatMessagePromptTemplate\n",
    "promtp = \"愿{subject}与你同在\"\n",
    "chat_message_prompt = ChatMessagePromptTemplate.from_template(\n",
    "    role=\"Jedi\",\n",
    "    template=promtp\n",
    ")\n",
    "chat_message_prompt.format(subject=\"上帝\")"
   ]
  },
  {
   "cell_type": "code",
   "execution_count": 9,
   "id": "0896bbc0",
   "metadata": {},
   "outputs": [],
   "source": [
    "from langchain.prompts import ChatMessagePromptTemplate, HumanMessagePromptTemplate, MessagesPlaceholder, ChatPromptTemplate, MessagesPlaceholder\n",
    "\n",
    "human_prompt = \"用{word_connt}字总结我们迄今为止的对话\"\n",
    "\n",
    "human_message_prompt = HumanMessagePromptTemplate.from_template(human_prompt)\n",
    "\n",
    "chat_prompt = ChatPromptTemplate.from_messages([\n",
    "    MessagesPlaceholder(variable_name=\"conversion\"),\n",
    "    human_message_prompt\n",
    "])"
   ]
  },
  {
   "cell_type": "code",
   "execution_count": 11,
   "id": "c51b9409",
   "metadata": {},
   "outputs": [
    {
     "data": {
      "text/plain": [
       "[HumanMessage(content='学习编程最好的方法是什么', additional_kwargs={}, response_metadata={}),\n",
       " AIMessage(content='\\n        1. 选择编程语言：决定你想要学习的语言\\n        2. 从基础开始：熟悉变量、数据类型和控制结构等基本编程概念\\n        3. 练习、练习、再练习：学习编程最好的方法是通过实践', additional_kwargs={}, response_metadata={}),\n",
       " HumanMessage(content='用20字总结我们迄今为止的对话', additional_kwargs={}, response_metadata={})]"
      ]
     },
     "execution_count": 11,
     "metadata": {},
     "output_type": "execute_result"
    }
   ],
   "source": [
    "from langchain_core.messages import AIMessage, HumanMessage\n",
    "human_message = HumanMessage(content=\"学习编程最好的方法是什么\")\n",
    "\n",
    "ai_message = AIMessage(content=\"\"\"\n",
    "        1. 选择编程语言：决定你想要学习的语言\n",
    "        2. 从基础开始：熟悉变量、数据类型和控制结构等基本编程概念\n",
    "        3. 练习、练习、再练习：学习编程最好的方法是通过实践\"\"\")\n",
    "\n",
    "chat_prompt.format_messages(\n",
    "    conversion=[human_message, ai_message],\n",
    "    word_connt=\"20\"\n",
    ")\n"
   ]
  },
  {
   "cell_type": "code",
   "execution_count": 12,
   "id": "7a0f1053",
   "metadata": {},
   "outputs": [
    {
     "name": "stderr",
     "output_type": "stream",
     "text": [
      "/home/zpc/anaconda3/envs/langchain/lib/python3.10/site-packages/tqdm/auto.py:21: TqdmWarning: IProgress not found. Please update jupyter and ipywidgets. See https://ipywidgets.readthedocs.io/en/stable/user_install.html\n",
      "  from .autonotebook import tqdm as notebook_tqdm\n"
     ]
    }
   ],
   "source": [
    "from langchain_openai import ChatOpenAI\n",
    "import os\n",
    "from openai import api_key, base_url\n",
    "from transformers import Qwen2_5_VLConfig\n",
    "\n",
    "from langchain_core.output_parsers.string import StrOutputParser\n",
    "from langchain.schema import output_parser\n",
    "# llm = ChatOpenAI(model=)\n",
    "# OPENAI_API_KEY = os.getenv(\"OPENAI_API_KEY\", \"sk-C3gsaWJaOsmjrNv1fIobc4zEEsEkD15T98j80Vc8mNuSE420\")\n",
    "# llm = ChatOpenAI(model=\"o3-mini\", api_key=OPENAI_API_KEY, base_url=\"https://api.deepbricks.ai/v1/\")\n",
    "QWEN_API_KEY = os.getenv(\"QWEN_API_KEY\", \"sk-ypjnechwutigvbyglbkguukzsmzkkxfibauydwkbjrypwojd\")\n",
    "model = ChatOpenAI(model=\"Qwen/Qwen3-30B-A3B-Instruct-2507\", api_key=QWEN_API_KEY, base_url=\"https://api.siliconflow.cn/v1\")\n",
    "\n",
    "\n",
    "\n",
    "output_parser = StrOutputParser()"
   ]
  },
  {
   "cell_type": "code",
   "execution_count": 13,
   "id": "bc3e4c20",
   "metadata": {},
   "outputs": [
    {
     "data": {
      "text/plain": [
       "'学习编程需选语言，打基础，多实践。'"
      ]
     },
     "execution_count": 13,
     "metadata": {},
     "output_type": "execute_result"
    }
   ],
   "source": [
    "chain = chat_prompt | model | output_parser\n",
    "\n",
    "chain.invoke({\"word_connt\": \"20\", \"conversion\": [human_message, ai_message]})"
   ]
  },
  {
   "cell_type": "code",
   "execution_count": 14,
   "id": "876c67a5",
   "metadata": {},
   "outputs": [],
   "source": [
    "from langchain.prompts.prompt import PromptTemplate\n",
    "from langchain.prompts.pipeline import PipelinePromptTemplate\n",
    "from numpy import full\n",
    "\n",
    "\n",
    "full_template = \"\"\"\n",
    "{introduction}\n",
    "{example}\n",
    "{start}\n",
    "\"\"\"\n",
    "\n",
    "full_prompt = PromptTemplate.from_template(full_template)\n",
    "\n"
   ]
  },
  {
   "cell_type": "code",
   "execution_count": null,
   "id": "67c121c2",
   "metadata": {},
   "outputs": [
    {
     "data": {
      "text/plain": [
       "PromptTemplate(input_variables=['person'], input_types={}, partial_variables={}, template='你正在冒充{person}')"
      ]
     },
     "execution_count": 16,
     "metadata": {},
     "output_type": "execute_result"
    }
   ],
   "source": [
    "introduction_template = \"\"\"你正在冒充{person}\"\"\"\n",
    "introduction_prompt = PromptTemplate.from_template(introduction_template)\n"
   ]
  },
  {
   "cell_type": "code",
   "execution_count": 17,
   "id": "d48593e5",
   "metadata": {},
   "outputs": [],
   "source": [
    "example_template = \"\"\"\n",
    "下面是一个交互实例：\n",
    "Q: {example_q}\n",
    "A: {example_a}\n",
    "\"\"\"\n",
    "\n",
    "example_prompt = PromptTemplate.from_template(example_template)\n"
   ]
  },
  {
   "cell_type": "code",
   "execution_count": 18,
   "id": "861f4993",
   "metadata": {},
   "outputs": [],
   "source": [
    "start_template = \"\"\"\n",
    "现在正式开始！\n",
    "Q:{input}\n",
    "....\n",
    "\"\"\"\n",
    "\n",
    "\n",
    "start_prompt = PromptTemplate.from_template(start_template)\n",
    "\n",
    "\n"
   ]
  },
  {
   "cell_type": "code",
   "execution_count": 24,
   "id": "0d6da389",
   "metadata": {},
   "outputs": [
    {
     "data": {
      "text/plain": [
       "['input', 'person', 'example_q', 'example_a']"
      ]
     },
     "execution_count": 24,
     "metadata": {},
     "output_type": "execute_result"
    }
   ],
   "source": [
    "input_prompt = [\n",
    "    (\"introduction\", introduction_prompt),\n",
    "    (\"example\", example_prompt),\n",
    "    (\"start\", start_prompt)\n",
    "]\n",
    "\n",
    "pipline_prompt = PipelinePromptTemplate(\n",
    "    final_prompt=full_prompt,\n",
    "    pipeline_prompts=input_prompt\n",
    ")\n",
    "\n",
    "\n",
    "\n",
    "pipline_prompt.input_variables"
   ]
  },
  {
   "cell_type": "code",
   "execution_count": 27,
   "id": "e7510393",
   "metadata": {},
   "outputs": [
    {
     "data": {
      "text/plain": [
       "PipelinePromptTemplate(input_variables=['input', 'person', 'example_q', 'example_a'], input_types={}, partial_variables={}, final_prompt=PromptTemplate(input_variables=['example', 'introduction', 'start'], input_types={}, partial_variables={}, template='\\n{introduction}\\n{example}\\n{start}\\n'), pipeline_prompts=[('introduction', PromptTemplate(input_variables=['person'], input_types={}, partial_variables={}, template='你正在冒充{person}')), ('example', PromptTemplate(input_variables=['example_a', 'example_q'], input_types={}, partial_variables={}, template='\\n下面是一个交互实例：\\nQ: {example_q}\\nA: {example_a}\\n')), ('start', PromptTemplate(input_variables=['input'], input_types={}, partial_variables={}, template='\\n现在正式开始！\\nQ:{input}\\n....\\n'))])"
      ]
     },
     "execution_count": 27,
     "metadata": {},
     "output_type": "execute_result"
    }
   ],
   "source": [
    "pipline_prompt.format(\n",
    "    person = \"masike\",\n",
    "    example_q = \"你最喜欢什么车？\",\n",
    "    example_a = \"我最喜欢奔驰\",\n",
    "    input = \"你最喜欢什么洗衣机\"\n",
    ")\n",
    "pipline_prompt"
   ]
  },
  {
   "cell_type": "code",
   "execution_count": 29,
   "id": "e7e223a9",
   "metadata": {},
   "outputs": [
    {
     "data": {
      "text/plain": [
       "'我最喜欢的是X（原Twitter）。它让我能直接与全球的用户交流，分享想法，讨论科技和未来。毕竟，开放对话是推动进步的关键。'"
      ]
     },
     "execution_count": 29,
     "metadata": {},
     "output_type": "execute_result"
    }
   ],
   "source": [
    "chain = pipline_prompt | model | output_parser\n",
    "\n",
    "chain.invoke({\"person\": \"马斯克\",\n",
    "              \"example_q\": \"你最喜欢什么车\",\n",
    "              \"example_a\": \"我最喜欢奔驰\",\n",
    "              \"input\": \"你最喜欢的社交网站是什么？\"})\n",
    "\n",
    "\n"
   ]
  },
  {
   "cell_type": "code",
   "execution_count": 35,
   "id": "bd98f953",
   "metadata": {},
   "outputs": [
    {
     "name": "stdout",
     "output_type": "stream",
     "text": [
      "CPU times: user 6 μs, sys: 0 ns, total: 6 μs\n",
      "Wall time: 14.3 μs\n"
     ]
    }
   ],
   "source": [
    "%time\n",
    "from langchain.globals import set_llm_cache\n",
    "from langchain.cache import InMemoryCache\n",
    "\n",
    "\n",
    "set_llm_cache(InMemoryCache())\n",
    "\n"
   ]
  },
  {
   "cell_type": "code",
   "execution_count": 38,
   "id": "e279de06",
   "metadata": {},
   "outputs": [
    {
     "name": "stdout",
     "output_type": "stream",
     "text": [
      "CPU times: user 9 μs, sys: 1 μs, total: 10 μs\n",
      "Wall time: 19.1 μs\n"
     ]
    },
    {
     "data": {
      "text/plain": [
       "'🍃【一口清甜，爱上这杯「绿」意杀」】🌿\\n\\n姐妹们！今天必须安利我最近的“心头好”——**手作绿茶**！✨\\n\\n不是便利店那种泡两分钟就发黄的“速成绿”，是真正的、鲜嫩到能掐出水的**明前龙井+茉莉银针**混合茶汤，一口下去，🍃清香直冲天灵盖，连呼吸都变得轻盈了！\\n\\n✅ 为什么我疯狂回购？\\n✔️ 0糖0添加，喝完不胖还养颜✨（每天一杯，气色红润得像开了美颜）\\n✔️ 冷泡3小时，绿得像春天的湖水🌊，颜值爆表！拍照直接发朋友圈收获100+点赞\\n✔️ 独家秘制配方：绿茶+迷迭香+柠檬片+冰块，清甜微酸，解腻又提神，下午3点犯困？来一杯，瞬间满血复活⚡\\n\\n💡小tips：早起空腹喝一杯，肠道都感觉被温柔唤醒～尤其是大姨妈前后，喝一喝，整个人都清爽了！\\n\\n🍵 我还入手了小众国风茶罐，拆开的那一刻，仿佛置身江南茶园，仪式感直接拉满！\\n\\n📌真心建议：自饮or送人，都非常有格调！闺蜜喝完眼神发亮：“你这茶，是会发光的吧？”\\n\\n👉 评论区扣【绿】，私信我送你一份【绿茶冷泡秘方】+我的同款茶具图鉴！  \\n#手作茶生活 #绿茶控必看 #养生日常 #好物分享 #小红书种草'"
      ]
     },
     "execution_count": 38,
     "metadata": {},
     "output_type": "execute_result"
    }
   ],
   "source": [
    "%time\n",
    "from langchain_core.output_parsers import StrOutputParser\n",
    "from langchain_core.prompts import ChatPromptTemplate\n",
    "prompt = ChatPromptTemplate.from_template(\"请根据下面主题写一篇小红书营销短文:{topic}\")\n",
    "output_parser = StrOutputParser()\n",
    "chain = prompt | model | output_parser\n",
    "\n",
    "\n",
    "chain.invoke({\"topic\":\"绿茶\"})"
   ]
  },
  {
   "cell_type": "code",
   "execution_count": null,
   "id": "c890df4a",
   "metadata": {},
   "outputs": [],
   "source": [
    "%time\n",
    "chain.invoke({\"topic\":\"绿茶\"})"
   ]
  },
  {
   "cell_type": "code",
   "execution_count": 41,
   "id": "19a89a20",
   "metadata": {},
   "outputs": [
    {
     "data": {
      "text/plain": [
       "'✨喝出仙女感！一杯绿茶，清爽到心尖上～🌿✨  \\n\\n姐妹们！！最近真的被这杯「绿」彻底征服了\\U0001f979  \\n不是普通的绿茶，是那种喝一口就仿佛走进了江南烟雨小院的高级感🍃💦  \\n\\n🍵 我的日常仪式感：  \\n早上8点，阳光刚爬上窗台，泡一杯明前龙井，  \\n热气袅袅升起，青绿色的茶汤像刚摘下的嫩芽✨  \\n轻轻一抿——清甜回甘，带着淡淡的豆香和草木香，  \\n瞬间清醒，比咖啡还提神，还不伤胃！  \\n\\n💡为什么我疯狂种草它？  \\n✅ 天然0添加，每一口都干净到发光  \\n✅ 抗氧化小能手，对抗熬夜垮脸超有效✨  \\n✅ 减脂期救星！低卡又解腻，奶茶戒掉后它就是我的心头好  \\n\\n👭 和闺蜜打卡模式：  \\n周末约在 Café，一人一杯清茶+小点心，  \\n聊聊天、拍拍照，发朋友圈连滤镜都省了，天然好气色！📷💛  \\n\\n📌小贴士：  \\n✨ 冲泡水温别太高（80℃左右），保留最鲜嫩的香气  \\n✨ 每天1-2杯就够了，喝出好气色不是梦～  \\n\\n真的，不要小看一杯绿茶的力量💧  \\n它不只是饮品，更是一种生活态度——  \\n简单、干净、自带滤镜✨  \\n\\n#绿茶控 #养生日常 #仙女水 #早安仪式感 #轻盈生活 #小红书种草 #办公室必备  \\n\\n👉 快来评论区告诉我，你最爱的绿茶是哪款？我们一起变美！💚'"
      ]
     },
     "execution_count": 41,
     "metadata": {},
     "output_type": "execute_result"
    }
   ],
   "source": [
    "from langchain.cache import SQLiteCache\n",
    "set_llm_cache(SQLiteCache())\n",
    "\n",
    "chain.invoke({\"topic\":\"绿茶\"})\n"
   ]
  },
  {
   "cell_type": "code",
   "execution_count": 46,
   "id": "5b47e5f3",
   "metadata": {},
   "outputs": [
    {
     "data": {
      "text/plain": [
       "[\"'香草'\", \"'巧克力'\", \"'草莓'\", \"'抹茶'\", \"'芒果'\"]"
      ]
     },
     "execution_count": 46,
     "metadata": {},
     "output_type": "execute_result"
    }
   ],
   "source": [
    "##CSV解析器\n",
    "from langchain.output_parsers import CommaSeparatedListOutputParser\n",
    "from langchain.prompts import PromptTemplate\n",
    "from langchain_openai import ChatOpenAI\n",
    "\n",
    "output_parser = CommaSeparatedListOutputParser()\n",
    "format_instructions = \"你的响应应该是csv格式的逗号分隔值的列表, 例如：'内容1','内容2','内容3'\"\n",
    "prompt = PromptTemplate(\n",
    "    template=\"{format_instructions}\\n 请列出5个{subject}\",\n",
    "    input_variables=[\"subject\"],\n",
    "    partial_variables={\"format_instructions\": format_instructions},\n",
    "\n",
    ")\n",
    "\n",
    "chain = prompt | model | output_parser\n",
    "\n",
    "chain.invoke({\"subject\": \"冰激凌口味\"})"
   ]
  },
  {
   "cell_type": "code",
   "execution_count": 47,
   "id": "1a4a07a2",
   "metadata": {},
   "outputs": [
    {
     "data": {
      "text/plain": [
       "StringPromptValue(text=\"你的响应应该是csv格式的逗号分隔值的列表, 例如：'内容1','内容2','内容3'\\n 请列出5个冰激凌口味\")"
      ]
     },
     "execution_count": 47,
     "metadata": {},
     "output_type": "execute_result"
    }
   ],
   "source": [
    "prompt.invoke({\"subject\": \"冰激凌口味\"})"
   ]
  },
  {
   "cell_type": "code",
   "execution_count": null,
   "id": "600fa2f9",
   "metadata": {},
   "outputs": [],
   "source": [
    "## 日期解释器\n",
    "\n",
    "\n"
   ]
  },
  {
   "cell_type": "code",
   "execution_count": null,
   "id": "5691359f",
   "metadata": {},
   "outputs": [],
   "source": []
  },
  {
   "cell_type": "code",
   "execution_count": null,
   "id": "fde7be45",
   "metadata": {},
   "outputs": [],
   "source": []
  },
  {
   "cell_type": "code",
   "execution_count": null,
   "id": "9007c1a6",
   "metadata": {},
   "outputs": [
    {
     "name": "stdout",
     "output_type": "stream",
     "text": [
      "CPU times: user 9 μs, sys: 1e+03 ns, total: 10 μs\n",
      "Wall time: 18.4 μs\n"
     ]
    },
    {
     "data": {
      "text/plain": [
       "'🍃【一口清甜，爱上这杯「绿」意杀」】🌿\\n\\n姐妹们！今天必须安利我最近的“心头好”——**手作绿茶**！✨\\n\\n不是便利店那种泡两分钟就发黄的“速成绿”，是真正的、鲜嫩到能掐出水的**明前龙井+茉莉银针**混合茶汤，一口下去，🍃清香直冲天灵盖，连呼吸都变得轻盈了！\\n\\n✅ 为什么我疯狂回购？\\n✔️ 0糖0添加，喝完不胖还养颜✨（每天一杯，气色红润得像开了美颜）\\n✔️ 冷泡3小时，绿得像春天的湖水🌊，颜值爆表！拍照直接发朋友圈收获100+点赞\\n✔️ 独家秘制配方：绿茶+迷迭香+柠檬片+冰块，清甜微酸，解腻又提神，下午3点犯困？来一杯，瞬间满血复活⚡\\n\\n💡小tips：早起空腹喝一杯，肠道都感觉被温柔唤醒～尤其是大姨妈前后，喝一喝，整个人都清爽了！\\n\\n🍵 我还入手了小众国风茶罐，拆开的那一刻，仿佛置身江南茶园，仪式感直接拉满！\\n\\n📌真心建议：自饮or送人，都非常有格调！闺蜜喝完眼神发亮：“你这茶，是会发光的吧？”\\n\\n👉 评论区扣【绿】，私信我送你一份【绿茶冷泡秘方】+我的同款茶具图鉴！  \\n#手作茶生活 #绿茶控必看 #养生日常 #好物分享 #小红书种草'"
      ]
     },
     "execution_count": 40,
     "metadata": {},
     "output_type": "execute_result"
    }
   ],
   "source": []
  }
 ],
 "metadata": {
  "kernelspec": {
   "display_name": "langchain",
   "language": "python",
   "name": "python3"
  },
  "language_info": {
   "codemirror_mode": {
    "name": "ipython",
    "version": 3
   },
   "file_extension": ".py",
   "mimetype": "text/x-python",
   "name": "python",
   "nbconvert_exporter": "python",
   "pygments_lexer": "ipython3",
   "version": "3.10.0"
  }
 },
 "nbformat": 4,
 "nbformat_minor": 5
}
