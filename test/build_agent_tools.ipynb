{
 "cells": [
  {
   "cell_type": "code",
   "execution_count": 44,
   "id": "3514dead",
   "metadata": {},
   "outputs": [],
   "source": [
    "## create a tool\n",
    "import requests\n",
    "import json\n",
    "import os\n",
    "from langchain.tools import Tool\n",
    "\n",
    "def baidu_search(query: str, num_results: int = 5) -> str:\n",
    "    \"\"\"\n",
    "    使用 Serper API 执行百度搜索\n",
    "    Args:\n",
    "        query: 搜索查询字符串\n",
    "        api_key: 你的 Serper API Key\n",
    "        num_results: 想要返回的结果数量\n",
    "    Returns:\n",
    "        一个格式化的字符串，包含搜索结果摘要。\n",
    "    \"\"\"\n",
    "    url = \"https://serpapi.com/search\" # Serper 的端点，但指定引擎为百度\n",
    "    payload = json.dumps({\n",
    "        \"q\": query,\n",
    "        \"engine\": \"baidu\", # 指定使用百度引擎\n",
    "        \"num\": num_results\n",
    "    })\n",
    "    headers = {\n",
    "        'X-API-KEY': '001bd195e11581af719e2f10bfb5abd7db5f51ffb37f79b2ef7cd43af0b8e7a2',\n",
    "        'Content-Type': 'application/json'\n",
    "    }\n",
    "\n",
    "    try:\n",
    "        response = requests.request(\"POST\", url, headers=headers, data=payload)\n",
    "        response.raise_for_status() # 检查请求是否成功\n",
    "        data = response.json()\n",
    "\n",
    "        # 解析和组织结果\n",
    "        organic_results = data.get('organic', [])\n",
    "        if not organic_results:\n",
    "            return \"没有找到相关的搜索结果。\"\n",
    "\n",
    "        search_results = []\n",
    "        for idx, result in enumerate(organic_results[:num_results], 1):\n",
    "            title = result.get('title', '无标题')\n",
    "            link = result.get('link', '#')\n",
    "            snippet = result.get('snippet', '无摘要')\n",
    "            search_results.append(f\"{idx}. [{title}]({link})\\n   {snippet}\\n\")\n",
    "\n",
    "        return \"\\n\".join(search_results)\n",
    "\n",
    "    except requests.exceptions.RequestException as e:\n",
    "        return f\"搜索请求出错: {e}\"\n",
    "    except json.JSONDecodeError as e:\n",
    "        return f\"解析搜索结果失败: {e}\"\n",
    "\n",
    "search_tool = Tool(\n",
    "    name=\"Baidu_Search\",\n",
    "    func=lambda query: baidu_search(query),\n",
    "    description=\"使用百度搜索引擎搜索网络上的最新信息。输入应该是一个搜索查询字符串。\"\n",
    ")"
   ]
  },
  {
   "cell_type": "code",
   "execution_count": 45,
   "id": "131273ad",
   "metadata": {},
   "outputs": [
    {
     "name": "stdout",
     "output_type": "stream",
     "text": [
      "<langgraph.graph.state.CompiledStateGraph object at 0x7f9e45be9630>\n"
     ]
    }
   ],
   "source": [
    "# Import relevant functionality\n",
    "from langchain.chat_models import init_chat_model\n",
    "from langchain_tavily import TavilySearch\n",
    "from langgraph.checkpoint.memory import MemorySaver\n",
    "from langgraph.prebuilt import create_react_agent\n",
    "\n",
    "# Create the agent\n",
    "memory = MemorySaver()\n",
    "model = init_chat_model(model=\"Qwen/Qwen3-32B\", model_provider=\"openai\", base_url=\"https://api.siliconflow.cn/v1\", api_key=\"sk-ypjnechwutigvbyglbkguukzsmzkkxfibauydwkbjrypwojd\")\n",
    "tools = [search_tool]\n",
    "agent_executor = create_react_agent(model, tools, checkpointer=memory)\n",
    "print(agent_executor)"
   ]
  },
  {
   "cell_type": "code",
   "execution_count": 46,
   "id": "a8dd60d0",
   "metadata": {},
   "outputs": [
    {
     "name": "stdout",
     "output_type": "stream",
     "text": [
      "================================\u001b[1m Human Message \u001b[0m=================================\n",
      "\n",
      "Hi, I'm Bob and I live in SF.\n",
      "==================================\u001b[1m Ai Message \u001b[0m==================================\n",
      "\n",
      "\n",
      "\n",
      "Hello Bob! Welcome to San Francisco. How can I assist you today? If you have any questions about the local area, events, or need help with something specific, feel free to ask!\n"
     ]
    }
   ],
   "source": [
    "# Use the agent\n",
    "config = {\"configurable\": {\"thread_id\": \"abc123\"}}\n",
    "\n",
    "input_message = {\n",
    "    \"role\": \"user\",\n",
    "    \"content\": \"Hi, I'm Bob and I live in SF.\",\n",
    "}\n",
    "for step in agent_executor.stream(\n",
    "    {\"messages\": [input_message]}, config, stream_mode=\"values\"\n",
    "):\n",
    "    step[\"messages\"][-1].pretty_print()"
   ]
  },
  {
   "cell_type": "code",
   "execution_count": 47,
   "id": "48e9e5c9",
   "metadata": {},
   "outputs": [
    {
     "name": "stdout",
     "output_type": "stream",
     "text": [
      "================================\u001b[1m Human Message \u001b[0m=================================\n",
      "\n",
      "What's the weather in beijing?\n",
      "==================================\u001b[1m Ai Message \u001b[0m==================================\n",
      "Tool Calls:\n",
      "  Baidu_Search (0199377f0014a1f503b2d94f57ff7cb5)\n",
      " Call ID: 0199377f0014a1f503b2d94f57ff7cb5\n",
      "  Args:\n",
      "    __arg1: What's the weather in Beijing\n",
      "=================================\u001b[1m Tool Message \u001b[0m=================================\n",
      "Name: Baidu_Search\n",
      "\n",
      "搜索请求出错: 404 Client Error: Not Found for url: https://serpapi.com/search\n",
      "==================================\u001b[1m Ai Message \u001b[0m==================================\n",
      "Tool Calls:\n",
      "  Baidu_Search (0199377f1fbec04dba8b11b3917311c5)\n",
      " Call ID: 0199377f1fbec04dba8b11b3917311c5\n",
      "  Args:\n",
      "    __arg1: 北京天气\n",
      "=================================\u001b[1m Tool Message \u001b[0m=================================\n",
      "Name: Baidu_Search\n",
      "\n",
      "搜索请求出错: 404 Client Error: Not Found for url: https://serpapi.com/search\n",
      "==================================\u001b[1m Ai Message \u001b[0m==================================\n",
      "\n",
      "\n",
      "\n",
      "It seems there was an error with the search request. I'll try using a different search term to get the current weather in Beijing.\n",
      "\n",
      "<searching>\n",
      "\"Beijing current weather forecast\"\n",
      "</searching>\n"
     ]
    }
   ],
   "source": [
    "input_message = {\n",
    "    \"role\": \"user\",\n",
    "    \"content\": \"What's the weather in beijing?\",\n",
    "}\n",
    "\n",
    "for step in agent_executor.stream(\n",
    "    {\"messages\": [input_message]}, config, stream_mode=\"values\"\n",
    "):\n",
    "    step[\"messages\"][-1].pretty_print()"
   ]
  },
  {
   "cell_type": "code",
   "execution_count": null,
   "id": "dabf4422",
   "metadata": {},
   "outputs": [],
   "source": []
  },
  {
   "cell_type": "code",
   "execution_count": null,
   "id": "770c8fb1",
   "metadata": {},
   "outputs": [],
   "source": []
  },
  {
   "cell_type": "code",
   "execution_count": null,
   "id": "3288fa5b",
   "metadata": {},
   "outputs": [],
   "source": []
  }
 ],
 "metadata": {
  "kernelspec": {
   "display_name": "langchain",
   "language": "python",
   "name": "python3"
  },
  "language_info": {
   "codemirror_mode": {
    "name": "ipython",
    "version": 3
   },
   "file_extension": ".py",
   "mimetype": "text/x-python",
   "name": "python",
   "nbconvert_exporter": "python",
   "pygments_lexer": "ipython3",
   "version": "3.10.0"
  }
 },
 "nbformat": 4,
 "nbformat_minor": 5
}
