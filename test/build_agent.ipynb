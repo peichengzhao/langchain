{
 "cells": [
  {
   "cell_type": "code",
   "execution_count": 9,
   "id": "ed806cd8",
   "metadata": {},
   "outputs": [
    {
     "name": "stdout",
     "output_type": "stream",
     "text": [
      "client=<openai.resources.chat.completions.completions.Completions object at 0x7f40b06099f0> async_client=<openai.resources.chat.completions.completions.AsyncCompletions object at 0x7f40b06085e0> root_client=<openai.OpenAI object at 0x7f40b0609810> root_async_client=<openai.AsyncOpenAI object at 0x7f40b0608160> model_name='Qwen/Qwen3-32B' model_kwargs={} openai_api_key=SecretStr('**********') openai_api_base='https://api.siliconflow.cn/v1'\n"
     ]
    }
   ],
   "source": [
    "import getpass\n",
    "import os\n",
    "\n",
    "# if not os.environ.get(\"OPENAI_API_KEY\"):\n",
    "#   os.environ[\"OPENAI_API_KEY\"] = getpass.getpass(\"Enter API key for OpenAI: \")\n",
    "\n",
    "from langchain.chat_models import init_chat_model\n",
    "from openai import api_key, base_url\n",
    "\n",
    "# from libs.langchain.langchain import model_laboratory\n",
    "\n",
    "model = init_chat_model(model=\"Qwen/Qwen3-32B\", model_provider=\"openai\", base_url=\"https://api.siliconflow.cn/v1\", api_key=\"sk-ypjnechwutigvbyglbkguukzsmzkkxfibauydwkbjrypwojd\")\n",
    "print(model)\n",
    "\n"
   ]
  },
  {
   "cell_type": "code",
   "execution_count": 15,
   "id": "22b81ffe",
   "metadata": {},
   "outputs": [
    {
     "name": "stdout",
     "output_type": "stream",
     "text": [
      "content='\\n\\n我爱编程。' additional_kwargs={'refusal': None} response_metadata={'token_usage': {'completion_tokens': 443, 'prompt_tokens': 25, 'total_tokens': 468, 'completion_tokens_details': {'accepted_prediction_tokens': None, 'audio_tokens': None, 'reasoning_tokens': 437, 'rejected_prediction_tokens': None}, 'prompt_tokens_details': None}, 'model_name': 'Qwen/Qwen3-32B', 'system_fingerprint': '', 'id': '019932d4a82913759ff194b027367def', 'service_tier': None, 'finish_reason': 'stop', 'logprobs': None} id='run--c6582da8-6ad7-4198-95a4-0bf4345cbe79-0' usage_metadata={'input_tokens': 25, 'output_tokens': 443, 'total_tokens': 468, 'input_token_details': {}, 'output_token_details': {'reasoning': 437}}\n"
     ]
    }
   ],
   "source": [
    "from langchain_core.messages import HumanMessage, SystemMessage\n",
    "\n",
    "messages = [\n",
    "    SystemMessage(content=\"Translate the following from English into chinese.\"),\n",
    "    HumanMessage(content=\"I love programming.\"),\n",
    "]\n",
    "\n",
    "print(model.invoke(messages))\n"
   ]
  },
  {
   "cell_type": "code",
   "execution_count": 22,
   "id": "06c2bb05",
   "metadata": {},
   "outputs": [
    {
     "name": "stdout",
     "output_type": "stream",
     "text": [
      "content='\\n\\nciao!' additional_kwargs={'refusal': None} response_metadata={'token_usage': {'completion_tokens': 410, 'prompt_tokens': 22, 'total_tokens': 432, 'completion_tokens_details': {'accepted_prediction_tokens': None, 'audio_tokens': None, 'reasoning_tokens': 406, 'rejected_prediction_tokens': None}, 'prompt_tokens_details': None}, 'model_name': 'Qwen/Qwen3-32B', 'system_fingerprint': '', 'id': '019932dd0cd76604257daf6aa2bf1456', 'service_tier': None, 'finish_reason': 'stop', 'logprobs': None} id='run--e1d78728-b274-4e97-b9ae-5e846767bbc0-0' usage_metadata={'input_tokens': 22, 'output_tokens': 410, 'total_tokens': 432, 'input_token_details': {}, 'output_token_details': {'reasoning': 406}}\n"
     ]
    }
   ],
   "source": [
    "from langchain_core.prompts import ChatPromptTemplate\n",
    "\n",
    "system_template = \"Translate the following from English into {language}\"\n",
    "\n",
    "prompt_template = ChatPromptTemplate.from_messages(\n",
    "    [(\"system\", system_template), (\"user\", \"{text}\")]\n",
    ")\n",
    "\n",
    "prompt = prompt_template.invoke({\"language\": \"Italian\", \"text\": \"hi!\"})\n",
    "response = model.invoke(prompt)\n",
    "print(response)\n"
   ]
  },
  {
   "cell_type": "code",
   "execution_count": null,
   "id": "ecf91361",
   "metadata": {},
   "outputs": [],
   "source": []
  },
  {
   "cell_type": "code",
   "execution_count": null,
   "id": "cd0f3463",
   "metadata": {},
   "outputs": [],
   "source": []
  }
 ],
 "metadata": {
  "kernelspec": {
   "display_name": "langchain",
   "language": "python",
   "name": "python3"
  },
  "language_info": {
   "codemirror_mode": {
    "name": "ipython",
    "version": 3
   },
   "file_extension": ".py",
   "mimetype": "text/x-python",
   "name": "python",
   "nbconvert_exporter": "python",
   "pygments_lexer": "ipython3",
   "version": "3.10.0"
  }
 },
 "nbformat": 4,
 "nbformat_minor": 5
}
